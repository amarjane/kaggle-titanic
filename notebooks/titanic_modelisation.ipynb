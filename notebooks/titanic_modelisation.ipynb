{
 "cells": [
  {
   "cell_type": "code",
   "execution_count": 1,
   "metadata": {
    "collapsed": true,
    "deletable": true,
    "editable": true
   },
   "outputs": [],
   "source": [
    "import pprint, itertools\n",
    "import numpy as np\n",
    "import pandas as pd\n",
    "import scipy as sp\n",
    "from sklearn import neighbors, metrics, model_selection\n",
    "from matplotlib import pyplot as plt"
   ]
  },
  {
   "cell_type": "code",
   "execution_count": 2,
   "metadata": {
    "collapsed": false,
    "deletable": true,
    "editable": true
   },
   "outputs": [],
   "source": [
    "train = pd.read_csv('clean_train_embarked_age_drop_cabin_bridge_name_ticket.csv', sep='|', index_col='PassengerId')\n",
    "test = pd.read_csv('clean_test_embarked_age_drop_cabin_bridge_name_ticket.csv', sep='|', index_col='PassengerId')\n",
    "survived_train = pd.read_csv('survived_train_final.csv', sep='|', index_col='PassengerId')\n",
    "survived_test = pd.read_csv('survived_test_final.csv', sep='|', index_col='PassengerId')"
   ]
  },
  {
   "cell_type": "code",
   "execution_count": 3,
   "metadata": {
    "collapsed": true,
    "deletable": true,
    "editable": true
   },
   "outputs": [],
   "source": [
    "scores = dict()"
   ]
  },
  {
   "cell_type": "markdown",
   "metadata": {
    "deletable": true,
    "editable": true
   },
   "source": [
    "### <font color=\"brown\">Set without sex and Embarked Drop cabin name ticket bridge</font>"
   ]
  },
  {
   "cell_type": "code",
   "execution_count": 4,
   "metadata": {
    "collapsed": false,
    "deletable": true,
    "editable": true
   },
   "outputs": [],
   "source": [
    "train_without_sex_embarked = train[['Age', 'Pclass', 'SibSp', 'Parch', 'Fare']]\n",
    "test_without_sex_embarked = test[['Age', 'Pclass', 'SibSp', 'Parch', 'Fare']]"
   ]
  },
  {
   "cell_type": "code",
   "execution_count": 5,
   "metadata": {
    "collapsed": false,
    "deletable": true,
    "editable": true
   },
   "outputs": [
    {
     "data": {
      "text/plain": [
       "pandas.core.frame.DataFrame"
      ]
     },
     "execution_count": 5,
     "metadata": {},
     "output_type": "execute_result"
    }
   ],
   "source": [
    "train_without_sex_embarked.shape, survived_train.shape[0]\n",
    "\n",
    "train_without_sex_embarked.values, train_without_sex_embarked.keys\n",
    "\n",
    "type(train_without_sex_embarked)"
   ]
  },
  {
   "cell_type": "markdown",
   "metadata": {
    "deletable": true,
    "editable": true
   },
   "source": [
    "### <font color=\"brown\">Score du Classifieur KNN</font>"
   ]
  },
  {
   "cell_type": "code",
   "execution_count": 6,
   "metadata": {
    "collapsed": false,
    "deletable": true,
    "editable": true
   },
   "outputs": [
    {
     "name": "stdout",
     "output_type": "stream",
     "text": [
      "score_without_sex_embarked = 0.570996978852\n"
     ]
    }
   ],
   "source": [
    "from sklearn.neighbors import KNeighborsClassifier\n",
    "neigh = KNeighborsClassifier(n_neighbors=3)\n",
    "neigh.fit(train_without_sex_embarked.values, survived_train.values.flatten())\n",
    "score_without_sex_embarked = neigh.score(test_without_sex_embarked.values, survived_test.values.flatten())\n",
    "print('score_without_sex_embarked = ' + str(score_without_sex_embarked))\n",
    "\n",
    "scores['Drop cabin name ticket bridge Without sex embarked'] = score_without_sex_embarked"
   ]
  },
  {
   "cell_type": "code",
   "execution_count": 7,
   "metadata": {
    "collapsed": true,
    "deletable": true,
    "editable": true
   },
   "outputs": [],
   "source": [
    "scores['Drop cabin name ticket bridge Without sex embarked'] = score_without_sex_embarked"
   ]
  },
  {
   "cell_type": "markdown",
   "metadata": {
    "deletable": true,
    "editable": true
   },
   "source": [
    "### <font color=\"brown\">Set only with Age and Pclass</font>"
   ]
  },
  {
   "cell_type": "code",
   "execution_count": 8,
   "metadata": {
    "collapsed": false,
    "deletable": true,
    "editable": true
   },
   "outputs": [
    {
     "data": {
      "text/plain": [
       "pandas.core.frame.DataFrame"
      ]
     },
     "execution_count": 8,
     "metadata": {},
     "output_type": "execute_result"
    }
   ],
   "source": [
    "train_age_pclass = train[['Age', 'Pclass']]\n",
    "test_age_pclass = test[['Age', 'Pclass']]\n",
    "\n",
    "train_age_pclass.shape, survived_train.shape[0]\n",
    "\n",
    "train_age_pclass.values, train_age_pclass.keys\n",
    "type(train_age_pclass)"
   ]
  },
  {
   "cell_type": "markdown",
   "metadata": {
    "deletable": true,
    "editable": true
   },
   "source": [
    "### <font color=\"brown\">Score du Classifieur KNN</font>"
   ]
  },
  {
   "cell_type": "code",
   "execution_count": 9,
   "metadata": {
    "collapsed": false,
    "deletable": true,
    "editable": true
   },
   "outputs": [
    {
     "name": "stdout",
     "output_type": "stream",
     "text": [
      "score_age_pclass = 0.546827794562\n"
     ]
    }
   ],
   "source": [
    "from sklearn.neighbors import KNeighborsClassifier\n",
    "neigh = KNeighborsClassifier(n_neighbors=3)\n",
    "neigh.fit(train_age_pclass.values, survived_train.values.flatten())\n",
    "score_age_pclass = neigh.score(test_age_pclass.values, survived_test.values.flatten())\n",
    "print('score_age_pclass = ' + str(score_age_pclass))"
   ]
  },
  {
   "cell_type": "code",
   "execution_count": 10,
   "metadata": {
    "collapsed": true,
    "deletable": true,
    "editable": true
   },
   "outputs": [],
   "source": [
    "scores['Drop cabin name ticket bridge only age pclass'] = score_age_pclass"
   ]
  },
  {
   "cell_type": "code",
   "execution_count": 11,
   "metadata": {
    "collapsed": false,
    "deletable": true,
    "editable": true
   },
   "outputs": [
    {
     "name": "stdout",
     "output_type": "stream",
     "text": [
      "{'Drop cabin name ticket bridge Without sex embarked': 0.57099697885196377,\n",
      " 'Drop cabin name ticket bridge only age pclass': 0.54682779456193353}\n"
     ]
    }
   ],
   "source": [
    "pprint.pprint(scores)"
   ]
  },
  {
   "cell_type": "markdown",
   "metadata": {
    "deletable": true,
    "editable": true
   },
   "source": [
    "### <font color=\"brown\">Preprocess Sex</font>"
   ]
  },
  {
   "cell_type": "code",
   "execution_count": 12,
   "metadata": {
    "collapsed": false,
    "deletable": true,
    "editable": true
   },
   "outputs": [
    {
     "name": "stdout",
     "output_type": "stream",
     "text": [
      "['female' 'male']\n",
      "[1 0 0 0 1 1 1 0 0 0]\n",
      "True\n"
     ]
    }
   ],
   "source": [
    "from sklearn import preprocessing\n",
    "le = preprocessing.LabelEncoder()\n",
    "le.fit(['male', 'female'])\n",
    "\n",
    "print le.classes_\n",
    "print le.transform(train['Sex'])[:10] \n",
    "print (train['Sex'] == le.inverse_transform(le.transform(train['Sex']))).all()\n",
    "\n",
    "new_train_sex = le.transform(train['Sex'])\n",
    "new_test_sex = le.transform(test['Sex'])"
   ]
  },
  {
   "cell_type": "code",
   "execution_count": 13,
   "metadata": {
    "collapsed": false,
    "deletable": true,
    "editable": true
   },
   "outputs": [
    {
     "data": {
      "text/plain": [
       "(             Pclass  Sex  Age  SibSp  Parch  Fare Embarked\n",
       " PassengerId                                               \n",
       " 1                 3    1   22      1      0     7        S\n",
       " 2                 1    0   38      1      0    71        C\n",
       " 3                 3    0   26      0      0     7        S\n",
       " 4                 1    0   35      1      0    53        S\n",
       " 5                 3    1   35      0      0     8        S,\n",
       "              Pclass  Sex  Age  SibSp  Parch  Fare Embarked\n",
       " PassengerId                                               \n",
       " 892               3    1   34      0      0     7        Q\n",
       " 893               3    0   47      1      0     7        S\n",
       " 894               2    1   62      0      0     9        Q\n",
       " 895               3    1   27      0      0     8        S\n",
       " 896               3    0   22      1      1    12        S)"
      ]
     },
     "execution_count": 13,
     "metadata": {},
     "output_type": "execute_result"
    }
   ],
   "source": [
    "train_index = train['Sex'].index\n",
    "test_index = test['Sex'].index\n",
    "\n",
    "train['Sex'] = pd.Series(new_train_sex, index=train_index)\n",
    "test['Sex'] = pd.Series(new_test_sex, index=test_index)\n",
    "\n",
    "train.head(), test.head()"
   ]
  },
  {
   "cell_type": "markdown",
   "metadata": {
    "deletable": true,
    "editable": true
   },
   "source": [
    "### <font color=\"brown\">Preprocess Embarked</font>"
   ]
  },
  {
   "cell_type": "code",
   "execution_count": 14,
   "metadata": {
    "collapsed": false,
    "deletable": true,
    "editable": true
   },
   "outputs": [
    {
     "name": "stdout",
     "output_type": "stream",
     "text": [
      "['S' 'C' 'Q']\n",
      "['C' 'Q' 'S']\n",
      "[2 0 2 2 2 2 2 2 0 2]\n",
      "[1 2 1 2 2 2 1 2 0 2]\n",
      "True\n"
     ]
    }
   ],
   "source": [
    "le.fit(['S', 'C', 'Q'])\n",
    "\n",
    "print train['Embarked'].unique()\n",
    "print le.classes_\n",
    "print le.transform(train['Embarked'])[:10]\n",
    "print le.transform(test['Embarked'])[:10] \n",
    "print (train['Embarked'] == le.inverse_transform(le.transform(train['Embarked']))).all()\n",
    "\n",
    "new_train_embarked = le.transform(train['Embarked'])\n",
    "new_test_embarked = le.transform(test['Embarked'])"
   ]
  },
  {
   "cell_type": "code",
   "execution_count": 15,
   "metadata": {
    "collapsed": false,
    "deletable": true,
    "editable": true
   },
   "outputs": [
    {
     "data": {
      "text/html": [
       "<div>\n",
       "<table border=\"1\" class=\"dataframe\">\n",
       "  <thead>\n",
       "    <tr style=\"text-align: right;\">\n",
       "      <th></th>\n",
       "      <th>Pclass</th>\n",
       "      <th>Sex</th>\n",
       "      <th>Age</th>\n",
       "      <th>SibSp</th>\n",
       "      <th>Parch</th>\n",
       "      <th>Fare</th>\n",
       "      <th>Embarked</th>\n",
       "    </tr>\n",
       "    <tr>\n",
       "      <th>PassengerId</th>\n",
       "      <th></th>\n",
       "      <th></th>\n",
       "      <th></th>\n",
       "      <th></th>\n",
       "      <th></th>\n",
       "      <th></th>\n",
       "      <th></th>\n",
       "    </tr>\n",
       "  </thead>\n",
       "  <tbody>\n",
       "    <tr>\n",
       "      <th>892</th>\n",
       "      <td>3</td>\n",
       "      <td>1</td>\n",
       "      <td>34</td>\n",
       "      <td>0</td>\n",
       "      <td>0</td>\n",
       "      <td>7</td>\n",
       "      <td>1</td>\n",
       "    </tr>\n",
       "    <tr>\n",
       "      <th>893</th>\n",
       "      <td>3</td>\n",
       "      <td>0</td>\n",
       "      <td>47</td>\n",
       "      <td>1</td>\n",
       "      <td>0</td>\n",
       "      <td>7</td>\n",
       "      <td>2</td>\n",
       "    </tr>\n",
       "    <tr>\n",
       "      <th>894</th>\n",
       "      <td>2</td>\n",
       "      <td>1</td>\n",
       "      <td>62</td>\n",
       "      <td>0</td>\n",
       "      <td>0</td>\n",
       "      <td>9</td>\n",
       "      <td>1</td>\n",
       "    </tr>\n",
       "    <tr>\n",
       "      <th>895</th>\n",
       "      <td>3</td>\n",
       "      <td>1</td>\n",
       "      <td>27</td>\n",
       "      <td>0</td>\n",
       "      <td>0</td>\n",
       "      <td>8</td>\n",
       "      <td>2</td>\n",
       "    </tr>\n",
       "    <tr>\n",
       "      <th>896</th>\n",
       "      <td>3</td>\n",
       "      <td>0</td>\n",
       "      <td>22</td>\n",
       "      <td>1</td>\n",
       "      <td>1</td>\n",
       "      <td>12</td>\n",
       "      <td>2</td>\n",
       "    </tr>\n",
       "  </tbody>\n",
       "</table>\n",
       "</div>"
      ],
      "text/plain": [
       "             Pclass  Sex  Age  SibSp  Parch  Fare  Embarked\n",
       "PassengerId                                                \n",
       "892               3    1   34      0      0     7         1\n",
       "893               3    0   47      1      0     7         2\n",
       "894               2    1   62      0      0     9         1\n",
       "895               3    1   27      0      0     8         2\n",
       "896               3    0   22      1      1    12         2"
      ]
     },
     "execution_count": 15,
     "metadata": {},
     "output_type": "execute_result"
    }
   ],
   "source": [
    "train_index = train['Embarked'].index\n",
    "train['Embarked'] = pd.Series(new_train_embarked, index=train_index)\n",
    "train.head()\n",
    "\n",
    "test_index = test['Embarked'].index\n",
    "test['Embarked'] = pd.Series(new_test_embarked, index=test_index)\n",
    "test.head()"
   ]
  },
  {
   "cell_type": "code",
   "execution_count": 16,
   "metadata": {
    "collapsed": false,
    "deletable": true,
    "editable": true
   },
   "outputs": [
    {
     "data": {
      "text/html": [
       "<div>\n",
       "<table border=\"1\" class=\"dataframe\">\n",
       "  <thead>\n",
       "    <tr style=\"text-align: right;\">\n",
       "      <th></th>\n",
       "      <th>Pclass</th>\n",
       "      <th>Sex</th>\n",
       "      <th>Age</th>\n",
       "      <th>SibSp</th>\n",
       "      <th>Parch</th>\n",
       "      <th>Fare</th>\n",
       "      <th>Embarked</th>\n",
       "    </tr>\n",
       "    <tr>\n",
       "      <th>PassengerId</th>\n",
       "      <th></th>\n",
       "      <th></th>\n",
       "      <th></th>\n",
       "      <th></th>\n",
       "      <th></th>\n",
       "      <th></th>\n",
       "      <th></th>\n",
       "    </tr>\n",
       "  </thead>\n",
       "  <tbody>\n",
       "    <tr>\n",
       "      <th>1</th>\n",
       "      <td>3</td>\n",
       "      <td>1</td>\n",
       "      <td>22</td>\n",
       "      <td>1</td>\n",
       "      <td>0</td>\n",
       "      <td>7</td>\n",
       "      <td>2</td>\n",
       "    </tr>\n",
       "    <tr>\n",
       "      <th>2</th>\n",
       "      <td>1</td>\n",
       "      <td>0</td>\n",
       "      <td>38</td>\n",
       "      <td>1</td>\n",
       "      <td>0</td>\n",
       "      <td>71</td>\n",
       "      <td>0</td>\n",
       "    </tr>\n",
       "    <tr>\n",
       "      <th>3</th>\n",
       "      <td>3</td>\n",
       "      <td>0</td>\n",
       "      <td>26</td>\n",
       "      <td>0</td>\n",
       "      <td>0</td>\n",
       "      <td>7</td>\n",
       "      <td>2</td>\n",
       "    </tr>\n",
       "    <tr>\n",
       "      <th>4</th>\n",
       "      <td>1</td>\n",
       "      <td>0</td>\n",
       "      <td>35</td>\n",
       "      <td>1</td>\n",
       "      <td>0</td>\n",
       "      <td>53</td>\n",
       "      <td>2</td>\n",
       "    </tr>\n",
       "    <tr>\n",
       "      <th>5</th>\n",
       "      <td>3</td>\n",
       "      <td>1</td>\n",
       "      <td>35</td>\n",
       "      <td>0</td>\n",
       "      <td>0</td>\n",
       "      <td>8</td>\n",
       "      <td>2</td>\n",
       "    </tr>\n",
       "  </tbody>\n",
       "</table>\n",
       "</div>"
      ],
      "text/plain": [
       "             Pclass  Sex  Age  SibSp  Parch  Fare  Embarked\n",
       "PassengerId                                                \n",
       "1                 3    1   22      1      0     7         2\n",
       "2                 1    0   38      1      0    71         0\n",
       "3                 3    0   26      0      0     7         2\n",
       "4                 1    0   35      1      0    53         2\n",
       "5                 3    1   35      0      0     8         2"
      ]
     },
     "execution_count": 16,
     "metadata": {},
     "output_type": "execute_result"
    }
   ],
   "source": [
    "train.head()"
   ]
  },
  {
   "cell_type": "markdown",
   "metadata": {
    "deletable": true,
    "editable": true
   },
   "source": [
    "### <font color=\"brown\">Set without embarked</font>"
   ]
  },
  {
   "cell_type": "code",
   "execution_count": 17,
   "metadata": {
    "collapsed": false,
    "deletable": true,
    "editable": true
   },
   "outputs": [
    {
     "data": {
      "text/plain": [
       "pandas.core.frame.DataFrame"
      ]
     },
     "execution_count": 17,
     "metadata": {},
     "output_type": "execute_result"
    }
   ],
   "source": [
    "train_without_embarked = train[['Age', 'Pclass', 'SibSp', 'Parch', 'Fare', 'Sex']]\n",
    "test_without_embarked = test[['Age', 'Pclass', 'SibSp', 'Parch', 'Fare', 'Sex']]\n",
    "\n",
    "train_without_embarked.shape, survived_train.shape[0]\n",
    "\n",
    "train_without_embarked.values, train_without_embarked.keys\n",
    "type(train_age_pclass)"
   ]
  },
  {
   "cell_type": "code",
   "execution_count": 18,
   "metadata": {
    "collapsed": false,
    "deletable": true,
    "editable": true
   },
   "outputs": [
    {
     "data": {
      "text/html": [
       "<div>\n",
       "<table border=\"1\" class=\"dataframe\">\n",
       "  <thead>\n",
       "    <tr style=\"text-align: right;\">\n",
       "      <th></th>\n",
       "      <th>Age</th>\n",
       "      <th>Pclass</th>\n",
       "      <th>SibSp</th>\n",
       "      <th>Parch</th>\n",
       "      <th>Fare</th>\n",
       "      <th>Sex</th>\n",
       "    </tr>\n",
       "    <tr>\n",
       "      <th>PassengerId</th>\n",
       "      <th></th>\n",
       "      <th></th>\n",
       "      <th></th>\n",
       "      <th></th>\n",
       "      <th></th>\n",
       "      <th></th>\n",
       "    </tr>\n",
       "  </thead>\n",
       "  <tbody>\n",
       "    <tr>\n",
       "      <th>1</th>\n",
       "      <td>22</td>\n",
       "      <td>3</td>\n",
       "      <td>1</td>\n",
       "      <td>0</td>\n",
       "      <td>7</td>\n",
       "      <td>1</td>\n",
       "    </tr>\n",
       "    <tr>\n",
       "      <th>2</th>\n",
       "      <td>38</td>\n",
       "      <td>1</td>\n",
       "      <td>1</td>\n",
       "      <td>0</td>\n",
       "      <td>71</td>\n",
       "      <td>0</td>\n",
       "    </tr>\n",
       "    <tr>\n",
       "      <th>3</th>\n",
       "      <td>26</td>\n",
       "      <td>3</td>\n",
       "      <td>0</td>\n",
       "      <td>0</td>\n",
       "      <td>7</td>\n",
       "      <td>0</td>\n",
       "    </tr>\n",
       "    <tr>\n",
       "      <th>4</th>\n",
       "      <td>35</td>\n",
       "      <td>1</td>\n",
       "      <td>1</td>\n",
       "      <td>0</td>\n",
       "      <td>53</td>\n",
       "      <td>0</td>\n",
       "    </tr>\n",
       "    <tr>\n",
       "      <th>5</th>\n",
       "      <td>35</td>\n",
       "      <td>3</td>\n",
       "      <td>0</td>\n",
       "      <td>0</td>\n",
       "      <td>8</td>\n",
       "      <td>1</td>\n",
       "    </tr>\n",
       "  </tbody>\n",
       "</table>\n",
       "</div>"
      ],
      "text/plain": [
       "             Age  Pclass  SibSp  Parch  Fare  Sex\n",
       "PassengerId                                      \n",
       "1             22       3      1      0     7    1\n",
       "2             38       1      1      0    71    0\n",
       "3             26       3      0      0     7    0\n",
       "4             35       1      1      0    53    0\n",
       "5             35       3      0      0     8    1"
      ]
     },
     "execution_count": 18,
     "metadata": {},
     "output_type": "execute_result"
    }
   ],
   "source": [
    "train_without_embarked.head()"
   ]
  },
  {
   "cell_type": "code",
   "execution_count": 19,
   "metadata": {
    "collapsed": false,
    "deletable": true,
    "editable": true
   },
   "outputs": [
    {
     "data": {
      "text/plain": [
       "array([[22,  3,  1,  0,  7,  1],\n",
       "       [38,  1,  1,  0, 71,  0],\n",
       "       [26,  3,  0,  0,  7,  0],\n",
       "       ..., \n",
       "       [19,  1,  0,  0, 30,  0],\n",
       "       [26,  1,  0,  0, 30,  1],\n",
       "       [32,  3,  0,  0,  7,  1]])"
      ]
     },
     "execution_count": 19,
     "metadata": {},
     "output_type": "execute_result"
    }
   ],
   "source": [
    "from sklearn.neighbors import KNeighborsClassifier\n",
    "neigh = KNeighborsClassifier(n_neighbors=3)\n",
    "train_without_embarked.values"
   ]
  },
  {
   "cell_type": "code",
   "execution_count": 20,
   "metadata": {
    "collapsed": false,
    "deletable": true,
    "editable": true
   },
   "outputs": [
    {
     "name": "stdout",
     "output_type": "stream",
     "text": [
      "score_without_embarked = 0.622356495468\n"
     ]
    }
   ],
   "source": [
    "neigh.fit(train_without_embarked.values, survived_train.values.flatten())\n",
    "score_without_embarked = neigh.score(test_without_embarked.values, survived_test.values.flatten())\n",
    "print('score_without_embarked = ' + str(score_without_embarked))"
   ]
  },
  {
   "cell_type": "code",
   "execution_count": 21,
   "metadata": {
    "collapsed": true,
    "deletable": true,
    "editable": true
   },
   "outputs": [],
   "source": [
    "scores['Drop cabin name ticket bridge without embarked'] = score_without_embarked"
   ]
  },
  {
   "cell_type": "markdown",
   "metadata": {
    "deletable": true,
    "editable": true
   },
   "source": [
    "### <font color=\"brown\">Set without sex</font>"
   ]
  },
  {
   "cell_type": "code",
   "execution_count": 22,
   "metadata": {
    "collapsed": false,
    "deletable": true,
    "editable": true
   },
   "outputs": [
    {
     "data": {
      "text/plain": [
       "pandas.core.frame.DataFrame"
      ]
     },
     "execution_count": 22,
     "metadata": {},
     "output_type": "execute_result"
    }
   ],
   "source": [
    "train_without_sex = train[['Age', 'Pclass', 'SibSp', 'Parch', 'Fare', 'Embarked']]\n",
    "test_without_sex = test[['Age', 'Pclass', 'SibSp', 'Parch', 'Fare', 'Embarked']]\n",
    "\n",
    "train_without_sex.shape, survived_train.shape[0]\n",
    "\n",
    "train_without_sex.values, train_without_sex.keys\n",
    "type(train_age_pclass)"
   ]
  },
  {
   "cell_type": "code",
   "execution_count": 23,
   "metadata": {
    "collapsed": false,
    "deletable": true,
    "editable": true
   },
   "outputs": [
    {
     "data": {
      "text/html": [
       "<div>\n",
       "<table border=\"1\" class=\"dataframe\">\n",
       "  <thead>\n",
       "    <tr style=\"text-align: right;\">\n",
       "      <th></th>\n",
       "      <th>Age</th>\n",
       "      <th>Pclass</th>\n",
       "      <th>SibSp</th>\n",
       "      <th>Parch</th>\n",
       "      <th>Fare</th>\n",
       "      <th>Embarked</th>\n",
       "    </tr>\n",
       "    <tr>\n",
       "      <th>PassengerId</th>\n",
       "      <th></th>\n",
       "      <th></th>\n",
       "      <th></th>\n",
       "      <th></th>\n",
       "      <th></th>\n",
       "      <th></th>\n",
       "    </tr>\n",
       "  </thead>\n",
       "  <tbody>\n",
       "    <tr>\n",
       "      <th>1</th>\n",
       "      <td>22</td>\n",
       "      <td>3</td>\n",
       "      <td>1</td>\n",
       "      <td>0</td>\n",
       "      <td>7</td>\n",
       "      <td>2</td>\n",
       "    </tr>\n",
       "    <tr>\n",
       "      <th>2</th>\n",
       "      <td>38</td>\n",
       "      <td>1</td>\n",
       "      <td>1</td>\n",
       "      <td>0</td>\n",
       "      <td>71</td>\n",
       "      <td>0</td>\n",
       "    </tr>\n",
       "    <tr>\n",
       "      <th>3</th>\n",
       "      <td>26</td>\n",
       "      <td>3</td>\n",
       "      <td>0</td>\n",
       "      <td>0</td>\n",
       "      <td>7</td>\n",
       "      <td>2</td>\n",
       "    </tr>\n",
       "    <tr>\n",
       "      <th>4</th>\n",
       "      <td>35</td>\n",
       "      <td>1</td>\n",
       "      <td>1</td>\n",
       "      <td>0</td>\n",
       "      <td>53</td>\n",
       "      <td>2</td>\n",
       "    </tr>\n",
       "    <tr>\n",
       "      <th>5</th>\n",
       "      <td>35</td>\n",
       "      <td>3</td>\n",
       "      <td>0</td>\n",
       "      <td>0</td>\n",
       "      <td>8</td>\n",
       "      <td>2</td>\n",
       "    </tr>\n",
       "  </tbody>\n",
       "</table>\n",
       "</div>"
      ],
      "text/plain": [
       "             Age  Pclass  SibSp  Parch  Fare  Embarked\n",
       "PassengerId                                           \n",
       "1             22       3      1      0     7         2\n",
       "2             38       1      1      0    71         0\n",
       "3             26       3      0      0     7         2\n",
       "4             35       1      1      0    53         2\n",
       "5             35       3      0      0     8         2"
      ]
     },
     "execution_count": 23,
     "metadata": {},
     "output_type": "execute_result"
    }
   ],
   "source": [
    "train_without_sex.head()"
   ]
  },
  {
   "cell_type": "code",
   "execution_count": 24,
   "metadata": {
    "collapsed": false,
    "deletable": true,
    "editable": true
   },
   "outputs": [
    {
     "data": {
      "text/plain": [
       "array([[22,  3,  1,  0,  7,  2],\n",
       "       [38,  1,  1,  0, 71,  0],\n",
       "       [26,  3,  0,  0,  7,  2],\n",
       "       ..., \n",
       "       [19,  1,  0,  0, 30,  2],\n",
       "       [26,  1,  0,  0, 30,  0],\n",
       "       [32,  3,  0,  0,  7,  1]])"
      ]
     },
     "execution_count": 24,
     "metadata": {},
     "output_type": "execute_result"
    }
   ],
   "source": [
    "from sklearn.neighbors import KNeighborsClassifier\n",
    "neigh = KNeighborsClassifier(n_neighbors=3)\n",
    "train_without_sex.values"
   ]
  },
  {
   "cell_type": "code",
   "execution_count": 25,
   "metadata": {
    "collapsed": false,
    "deletable": true,
    "editable": true
   },
   "outputs": [
    {
     "name": "stdout",
     "output_type": "stream",
     "text": [
      "score_without_sex = 0.577039274924\n"
     ]
    }
   ],
   "source": [
    "neigh.fit(train_without_sex.values, survived_train.values.flatten())\n",
    "score_without_sex = neigh.score(test_without_sex.values, survived_test.values.flatten())\n",
    "print('score_without_sex = ' + str(score_without_sex))"
   ]
  },
  {
   "cell_type": "code",
   "execution_count": 26,
   "metadata": {
    "collapsed": true,
    "deletable": true,
    "editable": true
   },
   "outputs": [],
   "source": [
    "scores['Drop cabin name ticket bridge without sex'] = score_without_sex"
   ]
  },
  {
   "cell_type": "markdown",
   "metadata": {
    "deletable": true,
    "editable": true
   },
   "source": [
    "### <font color=\"brown\">Set with all</font>"
   ]
  },
  {
   "cell_type": "code",
   "execution_count": 27,
   "metadata": {
    "collapsed": false,
    "deletable": true,
    "editable": true
   },
   "outputs": [
    {
     "data": {
      "text/html": [
       "<div>\n",
       "<table border=\"1\" class=\"dataframe\">\n",
       "  <thead>\n",
       "    <tr style=\"text-align: right;\">\n",
       "      <th></th>\n",
       "      <th>Pclass</th>\n",
       "      <th>Sex</th>\n",
       "      <th>Age</th>\n",
       "      <th>SibSp</th>\n",
       "      <th>Parch</th>\n",
       "      <th>Fare</th>\n",
       "      <th>Embarked</th>\n",
       "    </tr>\n",
       "    <tr>\n",
       "      <th>PassengerId</th>\n",
       "      <th></th>\n",
       "      <th></th>\n",
       "      <th></th>\n",
       "      <th></th>\n",
       "      <th></th>\n",
       "      <th></th>\n",
       "      <th></th>\n",
       "    </tr>\n",
       "  </thead>\n",
       "  <tbody>\n",
       "    <tr>\n",
       "      <th>1</th>\n",
       "      <td>3</td>\n",
       "      <td>1</td>\n",
       "      <td>22</td>\n",
       "      <td>1</td>\n",
       "      <td>0</td>\n",
       "      <td>7</td>\n",
       "      <td>2</td>\n",
       "    </tr>\n",
       "    <tr>\n",
       "      <th>2</th>\n",
       "      <td>1</td>\n",
       "      <td>0</td>\n",
       "      <td>38</td>\n",
       "      <td>1</td>\n",
       "      <td>0</td>\n",
       "      <td>71</td>\n",
       "      <td>0</td>\n",
       "    </tr>\n",
       "    <tr>\n",
       "      <th>3</th>\n",
       "      <td>3</td>\n",
       "      <td>0</td>\n",
       "      <td>26</td>\n",
       "      <td>0</td>\n",
       "      <td>0</td>\n",
       "      <td>7</td>\n",
       "      <td>2</td>\n",
       "    </tr>\n",
       "    <tr>\n",
       "      <th>4</th>\n",
       "      <td>1</td>\n",
       "      <td>0</td>\n",
       "      <td>35</td>\n",
       "      <td>1</td>\n",
       "      <td>0</td>\n",
       "      <td>53</td>\n",
       "      <td>2</td>\n",
       "    </tr>\n",
       "    <tr>\n",
       "      <th>5</th>\n",
       "      <td>3</td>\n",
       "      <td>1</td>\n",
       "      <td>35</td>\n",
       "      <td>0</td>\n",
       "      <td>0</td>\n",
       "      <td>8</td>\n",
       "      <td>2</td>\n",
       "    </tr>\n",
       "  </tbody>\n",
       "</table>\n",
       "</div>"
      ],
      "text/plain": [
       "             Pclass  Sex  Age  SibSp  Parch  Fare  Embarked\n",
       "PassengerId                                                \n",
       "1                 3    1   22      1      0     7         2\n",
       "2                 1    0   38      1      0    71         0\n",
       "3                 3    0   26      0      0     7         2\n",
       "4                 1    0   35      1      0    53         2\n",
       "5                 3    1   35      0      0     8         2"
      ]
     },
     "execution_count": 27,
     "metadata": {},
     "output_type": "execute_result"
    }
   ],
   "source": [
    "train.head()"
   ]
  },
  {
   "cell_type": "code",
   "execution_count": 28,
   "metadata": {
    "collapsed": false,
    "deletable": true,
    "editable": true
   },
   "outputs": [
    {
     "data": {
      "text/plain": [
       "pandas.core.frame.DataFrame"
      ]
     },
     "execution_count": 28,
     "metadata": {},
     "output_type": "execute_result"
    }
   ],
   "source": [
    "train_age = train[['Age', 'Pclass', 'SibSp', 'Parch', 'Fare', 'Sex', 'Embarked']]\n",
    "test_age = test[['Age', 'Pclass', 'SibSp', 'Parch', 'Fare', 'Sex', 'Embarked']]\n",
    "\n",
    "train_age.shape, survived_train.shape[0]\n",
    "\n",
    "train_age.values, train_age.keys\n",
    "type(train_age)"
   ]
  },
  {
   "cell_type": "code",
   "execution_count": 29,
   "metadata": {
    "collapsed": false,
    "deletable": true,
    "editable": true
   },
   "outputs": [
    {
     "data": {
      "text/plain": [
       "array([[ 3,  1, 22, ...,  0,  7,  2],\n",
       "       [ 1,  0, 38, ...,  0, 71,  0],\n",
       "       [ 3,  0, 26, ...,  0,  7,  2],\n",
       "       ..., \n",
       "       [ 1,  0, 19, ...,  0, 30,  2],\n",
       "       [ 1,  1, 26, ...,  0, 30,  0],\n",
       "       [ 3,  1, 32, ...,  0,  7,  1]])"
      ]
     },
     "execution_count": 29,
     "metadata": {},
     "output_type": "execute_result"
    }
   ],
   "source": [
    "from sklearn.neighbors import KNeighborsClassifier\n",
    "neigh = KNeighborsClassifier(n_neighbors=3)\n",
    "train.values"
   ]
  },
  {
   "cell_type": "code",
   "execution_count": 30,
   "metadata": {
    "collapsed": false,
    "deletable": true,
    "editable": true
   },
   "outputs": [
    {
     "name": "stdout",
     "output_type": "stream",
     "text": [
      "score_drop = 0.604229607251\n"
     ]
    }
   ],
   "source": [
    "neigh.fit(train.values, survived_train.values.flatten()) \n",
    "score_drop = neigh.score(test.values, survived_test.values.flatten())\n",
    "print('score_drop = ' + str(score_drop))"
   ]
  },
  {
   "cell_type": "code",
   "execution_count": 31,
   "metadata": {
    "collapsed": true,
    "deletable": true,
    "editable": true
   },
   "outputs": [],
   "source": [
    "scores['Drop cabin name ticket bridge'] = score_drop"
   ]
  },
  {
   "cell_type": "code",
   "execution_count": 32,
   "metadata": {
    "collapsed": false,
    "deletable": true,
    "editable": true
   },
   "outputs": [
    {
     "name": "stdout",
     "output_type": "stream",
     "text": [
      "{'Drop cabin name ticket bridge': 0.60422960725075525,\n",
      " 'Drop cabin name ticket bridge Without sex embarked': 0.57099697885196377,\n",
      " 'Drop cabin name ticket bridge only age pclass': 0.54682779456193353,\n",
      " 'Drop cabin name ticket bridge without embarked': 0.62235649546827798,\n",
      " 'Drop cabin name ticket bridge without sex': 0.57703927492447127}\n"
     ]
    }
   ],
   "source": [
    "pprint.pprint(scores)"
   ]
  },
  {
   "cell_type": "markdown",
   "metadata": {
    "deletable": true,
    "editable": true
   },
   "source": [
    "## <font color=\"purple\">KNN Classifier sur toutes les sous-Combinaisons train</font>"
   ]
  },
  {
   "cell_type": "code",
   "execution_count": 33,
   "metadata": {
    "collapsed": false,
    "deletable": true,
    "editable": true
   },
   "outputs": [
    {
     "data": {
      "text/plain": [
       "array(['Pclass', 'Sex', 'Age', 'SibSp', 'Parch', 'Fare', 'Embarked'], dtype=object)"
      ]
     },
     "execution_count": 33,
     "metadata": {},
     "output_type": "execute_result"
    }
   ],
   "source": [
    "train.columns.values"
   ]
  },
  {
   "cell_type": "code",
   "execution_count": 34,
   "metadata": {
    "collapsed": false,
    "deletable": true,
    "editable": true
   },
   "outputs": [
    {
     "name": "stdout",
     "output_type": "stream",
     "text": [
      "0 ['Pclass', 'Sex']\n",
      "1 ['Pclass', 'Age']\n",
      "2 ['Pclass', 'SibSp']\n",
      "3 ['Pclass', 'Parch']\n",
      "4 ['Pclass', 'Fare']\n",
      "5 ['Pclass', 'Embarked']\n",
      "6 ['Sex', 'Age']\n",
      "7 ['Sex', 'SibSp']\n",
      "8 ['Sex', 'Parch']\n",
      "9 ['Sex', 'Fare']\n",
      "10 ['Sex', 'Embarked']\n",
      "11 ['Age', 'SibSp']\n",
      "12 ['Age', 'Parch']\n",
      "13 ['Age', 'Fare']\n",
      "14 ['Age', 'Embarked']\n",
      "15 ['SibSp', 'Parch']\n",
      "16 ['SibSp', 'Fare']\n",
      "17 ['SibSp', 'Embarked']\n",
      "18 ['Parch', 'Fare']\n",
      "19 ['Parch', 'Embarked']\n",
      "20 ['Fare', 'Embarked']\n",
      "0 ['Pclass', 'Sex', 'Age', 'SibSp', 'Parch', 'Fare', 'Embarked']\n",
      "7\n"
     ]
    }
   ],
   "source": [
    "liste = list(train.columns.values)\n",
    "for i, e in enumerate(itertools.combinations(liste, 2)) : print i, list(e)\n",
    "for i, e in enumerate(itertools.combinations(liste, 7)) : print i, list(e)\n",
    "print len(liste)"
   ]
  },
  {
   "cell_type": "code",
   "execution_count": 35,
   "metadata": {
    "collapsed": true,
    "deletable": true,
    "editable": true
   },
   "outputs": [],
   "source": [
    "def scores_samples(max_neighbors, train_global, test_global, survived_train_global, survived_test_global):\n",
    "    scores = dict()\n",
    "    columns = list(train_global.columns.values)\n",
    "    for size in range(2, len(columns)+1) :\n",
    "        samples = itertools.combinations(columns, size)\n",
    "        for i, sample in enumerate(samples) :\n",
    "            train = train_global[list(sample)]\n",
    "            test = test_global[list(sample)]\n",
    "            for n in range(3, max_neighbors):\n",
    "                neigh = KNeighborsClassifier(n_neighbors=n)\n",
    "                neigh.fit(train.values, survived_train_global.values.flatten())\n",
    "                score = neigh.score(test.values, survived_test_global.values.flatten())\n",
    "                scores[size, sample, n] = score\n",
    "    return scores"
   ]
  },
  {
   "cell_type": "code",
   "execution_count": 36,
   "metadata": {
    "collapsed": false,
    "deletable": true,
    "editable": true
   },
   "outputs": [
    {
     "data": {
      "text/plain": [
       "{(2, ('Age', 'Embarked'), 3): 0.54380664652567978,\n",
       " (2, ('Age', 'Fare'), 3): 0.59818731117824775,\n",
       " (2, ('Age', 'Parch'), 3): 0.51359516616314205,\n",
       " (2, ('Age', 'SibSp'), 3): 0.54078549848942603,\n",
       " (2, ('Fare', 'Embarked'), 3): 0.5226586102719033,\n",
       " (2, ('Parch', 'Embarked'), 3): 0.61329305135951662,\n",
       " (2, ('Parch', 'Fare'), 3): 0.58912386706948638,\n",
       " (2, ('Pclass', 'Age'), 3): 0.54682779456193353,\n",
       " (2, ('Pclass', 'Embarked'), 3): 0.58610271903323263,\n",
       " (2, ('Pclass', 'Fare'), 3): 0.55891238670694865,\n",
       " (2, ('Pclass', 'Parch'), 3): 0.63141993957703924,\n",
       " (2, ('Pclass', 'Sex'), 3): 1.0,\n",
       " (2, ('Pclass', 'SibSp'), 3): 0.52870090634441091,\n",
       " (2, ('Sex', 'Age'), 3): 0.78247734138972813,\n",
       " (2, ('Sex', 'Embarked'), 3): 0.7643504531722054,\n",
       " (2, ('Sex', 'Fare'), 3): 0.86404833836858008,\n",
       " (2, ('Sex', 'Parch'), 3): 0.99697885196374625,\n",
       " (2, ('Sex', 'SibSp'), 3): 0.98187311178247738,\n",
       " (2, ('SibSp', 'Embarked'), 3): 0.59214501510574014,\n",
       " (2, ('SibSp', 'Fare'), 3): 0.54682779456193353,\n",
       " (2, ('SibSp', 'Parch'), 3): 0.64954682779456197,\n",
       " (3, ('Age', 'Fare', 'Embarked'), 3): 0.59214501510574014,\n",
       " (3, ('Age', 'Parch', 'Embarked'), 3): 0.54984894259818728,\n",
       " (3, ('Age', 'Parch', 'Fare'), 3): 0.58610271903323263,\n",
       " (3, ('Age', 'SibSp', 'Embarked'), 3): 0.5619335347432024,\n",
       " (3, ('Age', 'SibSp', 'Fare'), 3): 0.58006042296072513,\n",
       " (3, ('Age', 'SibSp', 'Parch'), 3): 0.49848942598187312,\n",
       " (3, ('Parch', 'Fare', 'Embarked'), 3): 0.595166163141994,\n",
       " (3, ('Pclass', 'Age', 'Embarked'), 3): 0.53474320241691842,\n",
       " (3, ('Pclass', 'Age', 'Fare'), 3): 0.59214501510574014,\n",
       " (3, ('Pclass', 'Age', 'Parch'), 3): 0.5166163141993958,\n",
       " (3, ('Pclass', 'Age', 'SibSp'), 3): 0.53172205438066467,\n",
       " (3, ('Pclass', 'Fare', 'Embarked'), 3): 0.56797583081571001,\n",
       " (3, ('Pclass', 'Parch', 'Embarked'), 3): 0.62839879154078548,\n",
       " (3, ('Pclass', 'Parch', 'Fare'), 3): 0.60422960725075525,\n",
       " (3, ('Pclass', 'Sex', 'Age'), 3): 0.77945619335347427,\n",
       " (3, ('Pclass', 'Sex', 'Embarked'), 3): 1.0,\n",
       " (3, ('Pclass', 'Sex', 'Fare'), 3): 0.85196374622356497,\n",
       " (3, ('Pclass', 'Sex', 'Parch'), 3): 0.94864048338368578,\n",
       " (3, ('Pclass', 'Sex', 'SibSp'), 3): 0.8761329305135952,\n",
       " (3, ('Pclass', 'SibSp', 'Embarked'), 3): 0.61329305135951662,\n",
       " (3, ('Pclass', 'SibSp', 'Fare'), 3): 0.58912386706948638,\n",
       " (3, ('Pclass', 'SibSp', 'Parch'), 3): 0.49848942598187312,\n",
       " (3, ('Sex', 'Age', 'Embarked'), 3): 0.8036253776435045,\n",
       " (3, ('Sex', 'Age', 'Fare'), 3): 0.6465256797583081,\n",
       " (3, ('Sex', 'Age', 'Parch'), 3): 0.77945619335347427,\n",
       " (3, ('Sex', 'Age', 'SibSp'), 3): 0.80664652567975825,\n",
       " (3, ('Sex', 'Fare', 'Embarked'), 3): 0.82175226586102723,\n",
       " (3, ('Sex', 'Parch', 'Embarked'), 3): 0.86706948640483383,\n",
       " (3, ('Sex', 'Parch', 'Fare'), 3): 0.82477341389728098,\n",
       " (3, ('Sex', 'SibSp', 'Embarked'), 3): 0.77039274924471302,\n",
       " (3, ('Sex', 'SibSp', 'Fare'), 3): 0.82477341389728098,\n",
       " (3, ('Sex', 'SibSp', 'Parch'), 3): 0.48338368580060426,\n",
       " (3, ('SibSp', 'Fare', 'Embarked'), 3): 0.5619335347432024,\n",
       " (3, ('SibSp', 'Parch', 'Embarked'), 3): 0.64350453172205435,\n",
       " (3, ('SibSp', 'Parch', 'Fare'), 3): 0.59214501510574014,\n",
       " (4, ('Age', 'Parch', 'Fare', 'Embarked'), 3): 0.57401812688821752,\n",
       " (4, ('Age', 'SibSp', 'Fare', 'Embarked'), 3): 0.58006042296072513,\n",
       " (4, ('Age', 'SibSp', 'Parch', 'Embarked'), 3): 0.5558912386706949,\n",
       " (4, ('Age', 'SibSp', 'Parch', 'Fare'), 3): 0.56797583081571001,\n",
       " (4, ('Pclass', 'Age', 'Fare', 'Embarked'), 3): 0.595166163141994,\n",
       " (4, ('Pclass', 'Age', 'Parch', 'Embarked'), 3): 0.50453172205438068,\n",
       " (4, ('Pclass', 'Age', 'Parch', 'Fare'), 3): 0.58308157099697888,\n",
       " (4, ('Pclass', 'Age', 'SibSp', 'Embarked'), 3): 0.5166163141993958,\n",
       " (4, ('Pclass', 'Age', 'SibSp', 'Fare'), 3): 0.58308157099697888,\n",
       " (4, ('Pclass', 'Age', 'SibSp', 'Parch'), 3): 0.53776435045317217,\n",
       " (4, ('Pclass', 'Parch', 'Fare', 'Embarked'), 3): 0.6012084592145015,\n",
       " (4, ('Pclass', 'Sex', 'Age', 'Embarked'), 3): 0.74622356495468278,\n",
       " (4, ('Pclass', 'Sex', 'Age', 'Fare'), 3): 0.6465256797583081,\n",
       " (4, ('Pclass', 'Sex', 'Age', 'Parch'), 3): 0.73413897280966767,\n",
       " (4, ('Pclass', 'Sex', 'Age', 'SibSp'), 3): 0.74622356495468278,\n",
       " (4, ('Pclass', 'Sex', 'Fare', 'Embarked'), 3): 0.83081570996978849,\n",
       " (4, ('Pclass', 'Sex', 'Parch', 'Embarked'), 3): 0.93353474320241692,\n",
       " (4, ('Pclass', 'Sex', 'Parch', 'Fare'), 3): 0.80664652567975825,\n",
       " (4, ('Pclass', 'Sex', 'SibSp', 'Embarked'), 3): 0.78851963746223563,\n",
       " (4, ('Pclass', 'Sex', 'SibSp', 'Fare'), 3): 0.82477341389728098,\n",
       " (4, ('Pclass', 'Sex', 'SibSp', 'Parch'), 3): 0.83987915407854985,\n",
       " (4, ('Pclass', 'SibSp', 'Fare', 'Embarked'), 3): 0.58610271903323263,\n",
       " (4, ('Pclass', 'SibSp', 'Parch', 'Embarked'), 3): 0.5166163141993958,\n",
       " (4, ('Pclass', 'SibSp', 'Parch', 'Fare'), 3): 0.59818731117824775,\n",
       " (4, ('Sex', 'Age', 'Fare', 'Embarked'), 3): 0.62839879154078548,\n",
       " (4, ('Sex', 'Age', 'Parch', 'Embarked'), 3): 0.7583081570996979,\n",
       " (4, ('Sex', 'Age', 'Parch', 'Fare'), 3): 0.6344410876132931,\n",
       " (4, ('Sex', 'Age', 'SibSp', 'Embarked'), 3): 0.78247734138972813,\n",
       " (4, ('Sex', 'Age', 'SibSp', 'Fare'), 3): 0.63746223564954685,\n",
       " (4, ('Sex', 'Age', 'SibSp', 'Parch'), 3): 0.78851963746223563,\n",
       " (4, ('Sex', 'Parch', 'Fare', 'Embarked'), 3): 0.81570996978851962,\n",
       " (4, ('Sex', 'SibSp', 'Fare', 'Embarked'), 3): 0.8036253776435045,\n",
       " (4, ('Sex', 'SibSp', 'Parch', 'Embarked'), 3): 0.87311178247734134,\n",
       " (4, ('Sex', 'SibSp', 'Parch', 'Fare'), 3): 0.81873111782477337,\n",
       " (4, ('SibSp', 'Parch', 'Fare', 'Embarked'), 3): 0.59214501510574014,\n",
       " (5, ('Age', 'SibSp', 'Parch', 'Fare', 'Embarked'), 3): 0.57401812688821752,\n",
       " (5, ('Pclass', 'Age', 'Parch', 'Fare', 'Embarked'), 3): 0.58308157099697888,\n",
       " (5, ('Pclass', 'Age', 'SibSp', 'Fare', 'Embarked'), 3): 0.58610271903323263,\n",
       " (5, ('Pclass', 'Age', 'SibSp', 'Parch', 'Embarked'), 3): 0.5166163141993958,\n",
       " (5, ('Pclass', 'Age', 'SibSp', 'Parch', 'Fare'), 3): 0.57099697885196377,\n",
       " (5, ('Pclass', 'Sex', 'Age', 'Fare', 'Embarked'), 3): 0.62537764350453173,\n",
       " (5, ('Pclass', 'Sex', 'Age', 'Parch', 'Embarked'), 3): 0.70392749244712993,\n",
       " (5, ('Pclass', 'Sex', 'Age', 'Parch', 'Fare'), 3): 0.63746223564954685,\n",
       " (5, ('Pclass', 'Sex', 'Age', 'SibSp', 'Embarked'), 3): 0.73716012084592142,\n",
       " (5, ('Pclass', 'Sex', 'Age', 'SibSp', 'Fare'), 3): 0.62839879154078548,\n",
       " (5, ('Pclass', 'Sex', 'Age', 'SibSp', 'Parch'), 3): 0.72809667673716016,\n",
       " (5, ('Pclass', 'Sex', 'Parch', 'Fare', 'Embarked'), 3): 0.80966767371601212,\n",
       " (5, ('Pclass', 'Sex', 'SibSp', 'Fare', 'Embarked'), 3): 0.79456193353474325,\n",
       " (5, ('Pclass', 'Sex', 'SibSp', 'Parch', 'Embarked'), 3): 0.88821752265861031,\n",
       " (5, ('Pclass', 'Sex', 'SibSp', 'Parch', 'Fare'), 3): 0.8036253776435045,\n",
       " (5, ('Pclass', 'SibSp', 'Parch', 'Fare', 'Embarked'), 3): 0.595166163141994,\n",
       " (5, ('Sex', 'Age', 'Parch', 'Fare', 'Embarked'), 3): 0.61329305135951662,\n",
       " (5, ('Sex', 'Age', 'SibSp', 'Fare', 'Embarked'), 3): 0.62235649546827798,\n",
       " (5, ('Sex', 'Age', 'SibSp', 'Parch', 'Embarked'), 3): 0.77039274924471302,\n",
       " (5, ('Sex', 'Age', 'SibSp', 'Parch', 'Fare'), 3): 0.62839879154078548,\n",
       " (5, ('Sex', 'SibSp', 'Parch', 'Fare', 'Embarked'), 3): 0.79456193353474325,\n",
       " (6,\n",
       "  ('Pclass', 'Age', 'SibSp', 'Parch', 'Fare', 'Embarked'),\n",
       "  3): 0.57703927492447127,\n",
       " (6,\n",
       "  ('Pclass', 'Sex', 'Age', 'Parch', 'Fare', 'Embarked'),\n",
       "  3): 0.61027190332326287,\n",
       " (6,\n",
       "  ('Pclass', 'Sex', 'Age', 'SibSp', 'Fare', 'Embarked'),\n",
       "  3): 0.61027190332326287,\n",
       " (6,\n",
       "  ('Pclass', 'Sex', 'Age', 'SibSp', 'Parch', 'Embarked'),\n",
       "  3): 0.70694864048338368,\n",
       " (6,\n",
       "  ('Pclass', 'Sex', 'Age', 'SibSp', 'Parch', 'Fare'),\n",
       "  3): 0.62235649546827798,\n",
       " (6,\n",
       "  ('Pclass', 'Sex', 'SibSp', 'Parch', 'Fare', 'Embarked'),\n",
       "  3): 0.8036253776435045,\n",
       " (6,\n",
       "  ('Sex', 'Age', 'SibSp', 'Parch', 'Fare', 'Embarked'),\n",
       "  3): 0.61027190332326287,\n",
       " (7,\n",
       "  ('Pclass', 'Sex', 'Age', 'SibSp', 'Parch', 'Fare', 'Embarked'),\n",
       "  3): 0.60422960725075525}"
      ]
     },
     "execution_count": 36,
     "metadata": {},
     "output_type": "execute_result"
    }
   ],
   "source": [
    "all_sets = train, test, survived_train, survived_test\n",
    "scores_samples(4, *all_sets)"
   ]
  },
  {
   "cell_type": "markdown",
   "metadata": {
    "deletable": true,
    "editable": true
   },
   "source": [
    "## <font color=\"purple\">Pourquoi score = 1 ?? </font>"
   ]
  },
  {
   "cell_type": "code",
   "execution_count": 37,
   "metadata": {
    "collapsed": false,
    "deletable": true,
    "editable": true
   },
   "outputs": [
    {
     "name": "stdout",
     "output_type": "stream",
     "text": [
      "0.673011077543 1.0\n",
      "(2, ('Pclass', 'Sex'), 3)\n",
      "(2, ('Pclass', 'Sex'), 3)\n",
      "(3, ('Pclass', 'Sex', 'Embarked'), 3)\n",
      "(3, ('Pclass', 'Sex', 'Embarked'), 3)\n"
     ]
    }
   ],
   "source": [
    "mean_scores = np.array(scores_samples(4, *all_sets).values()).mean()\n",
    "max_scores = np.array(scores_samples(4, *all_sets).values()).max()\n",
    "print mean_scores, max_scores\n",
    "for key, value in scores_samples(4, *all_sets).iteritems() :\n",
    "    if value == 1 :\n",
    "        print key\n",
    "    if value == max_scores :\n",
    "        print key"
   ]
  },
  {
   "cell_type": "code",
   "execution_count": 38,
   "metadata": {
    "collapsed": false,
    "deletable": true,
    "editable": true
   },
   "outputs": [
    {
     "name": "stdout",
     "output_type": "stream",
     "text": [
      "score_sex_pclass = 1.0\n"
     ]
    }
   ],
   "source": [
    "train_sex_pclass = train[['Sex', 'Pclass']]\n",
    "test_sex_pclass = test[['Sex', 'Pclass']]\n",
    "\n",
    "from sklearn.neighbors import KNeighborsClassifier\n",
    "neigh = KNeighborsClassifier(n_neighbors=3)\n",
    "neigh.fit(train_sex_pclass.values, survived_train.values.flatten())\n",
    "score_sex_pclass = neigh.score(test_sex_pclass.values, survived_test.values.flatten())\n",
    "print('score_sex_pclass = ' + str(score_sex_pclass))"
   ]
  },
  {
   "cell_type": "code",
   "execution_count": 39,
   "metadata": {
    "collapsed": false,
    "deletable": true,
    "editable": true
   },
   "outputs": [
    {
     "data": {
      "text/plain": [
       "pandas.core.frame.DataFrame"
      ]
     },
     "execution_count": 39,
     "metadata": {},
     "output_type": "execute_result"
    }
   ],
   "source": [
    "type(train_sex_pclass)"
   ]
  },
  {
   "cell_type": "code",
   "execution_count": 40,
   "metadata": {
    "collapsed": false,
    "deletable": true,
    "editable": true
   },
   "outputs": [
    {
     "data": {
      "text/plain": [
       "pandas.core.frame.DataFrame"
      ]
     },
     "execution_count": 40,
     "metadata": {},
     "output_type": "execute_result"
    }
   ],
   "source": [
    "type(test_sex_pclass)"
   ]
  },
  {
   "cell_type": "code",
   "execution_count": 41,
   "metadata": {
    "collapsed": false,
    "deletable": true,
    "editable": true
   },
   "outputs": [],
   "source": [
    "sex_pclass = pd.concat([train_sex_pclass, test_sex_pclass])\n",
    "survived_sex_pclass = pd.concat([survived_train, survived_test])\n",
    "sex_pclass = pd.concat([sex_pclass, survived_sex_pclass], axis=1)"
   ]
  },
  {
   "cell_type": "code",
   "execution_count": 42,
   "metadata": {
    "collapsed": false,
    "deletable": true,
    "editable": true
   },
   "outputs": [
    {
     "data": {
      "text/html": [
       "<div>\n",
       "<table border=\"1\" class=\"dataframe\">\n",
       "  <thead>\n",
       "    <tr style=\"text-align: right;\">\n",
       "      <th></th>\n",
       "      <th>Sex</th>\n",
       "      <th>Pclass</th>\n",
       "      <th>Survived</th>\n",
       "    </tr>\n",
       "    <tr>\n",
       "      <th>PassengerId</th>\n",
       "      <th></th>\n",
       "      <th></th>\n",
       "      <th></th>\n",
       "    </tr>\n",
       "  </thead>\n",
       "  <tbody>\n",
       "    <tr>\n",
       "      <th>1</th>\n",
       "      <td>1</td>\n",
       "      <td>3</td>\n",
       "      <td>0</td>\n",
       "    </tr>\n",
       "    <tr>\n",
       "      <th>2</th>\n",
       "      <td>0</td>\n",
       "      <td>1</td>\n",
       "      <td>1</td>\n",
       "    </tr>\n",
       "    <tr>\n",
       "      <th>3</th>\n",
       "      <td>0</td>\n",
       "      <td>3</td>\n",
       "      <td>1</td>\n",
       "    </tr>\n",
       "    <tr>\n",
       "      <th>4</th>\n",
       "      <td>0</td>\n",
       "      <td>1</td>\n",
       "      <td>1</td>\n",
       "    </tr>\n",
       "    <tr>\n",
       "      <th>5</th>\n",
       "      <td>1</td>\n",
       "      <td>3</td>\n",
       "      <td>0</td>\n",
       "    </tr>\n",
       "  </tbody>\n",
       "</table>\n",
       "</div>"
      ],
      "text/plain": [
       "             Sex  Pclass  Survived\n",
       "PassengerId                       \n",
       "1              1       3         0\n",
       "2              0       1         1\n",
       "3              0       3         1\n",
       "4              0       1         1\n",
       "5              1       3         0"
      ]
     },
     "execution_count": 42,
     "metadata": {},
     "output_type": "execute_result"
    }
   ],
   "source": [
    "sex_pclass.head()"
   ]
  },
  {
   "cell_type": "code",
   "execution_count": 43,
   "metadata": {
    "collapsed": false,
    "deletable": true,
    "editable": true
   },
   "outputs": [
    {
     "data": {
      "text/plain": [
       "True     1031\n",
       "False      12\n",
       "dtype: int64"
      ]
     },
     "execution_count": 43,
     "metadata": {},
     "output_type": "execute_result"
    }
   ],
   "source": [
    "sex_pclass.duplicated().value_counts()"
   ]
  },
  {
   "cell_type": "markdown",
   "metadata": {
    "deletable": true,
    "editable": true
   },
   "source": [
    "#### <font color=\"blue\">Le score = 1 car le data set sélectionné sur les colonnes sex, embarked et sa sortie survived forme un ensemble de 12 combinaisons possibles et celle-ci se répètent forcèment !!!!!</font>"
   ]
  },
  {
   "cell_type": "code",
   "execution_count": 44,
   "metadata": {
    "collapsed": false,
    "deletable": true,
    "editable": true
   },
   "outputs": [
    {
     "data": {
      "text/plain": [
       "Sex  Pclass  Survived\n",
       "0    1       0             3\n",
       "             1           128\n",
       "     2       0             6\n",
       "             1            97\n",
       "     3       0            55\n",
       "             1            97\n",
       "1    1       0           111\n",
       "             1            40\n",
       "     2       0           143\n",
       "             1            15\n",
       "     3       0           310\n",
       "             1            38\n",
       "dtype: int64"
      ]
     },
     "execution_count": 44,
     "metadata": {},
     "output_type": "execute_result"
    }
   ],
   "source": [
    "sex_pclass.groupby(['Sex', 'Pclass', 'Survived']).size()"
   ]
  }
 ],
 "metadata": {
  "kernelspec": {
   "display_name": "Python 2",
   "language": "python",
   "name": "python2"
  },
  "language_info": {
   "codemirror_mode": {
    "name": "ipython",
    "version": 2
   },
   "file_extension": ".py",
   "mimetype": "text/x-python",
   "name": "python",
   "nbconvert_exporter": "python",
   "pygments_lexer": "ipython2",
   "version": "2.7.13"
  }
 },
 "nbformat": 4,
 "nbformat_minor": 2
}
